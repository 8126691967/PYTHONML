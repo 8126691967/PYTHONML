{
 "cells": [
  {
   "cell_type": "code",
   "execution_count": 3,
   "metadata": {
    "collapsed": false
   },
   "outputs": [
    {
     "name": "stdout",
     "output_type": "stream",
     "text": [
      "our array is:\n[[ 0  1  2]\n [ 3  4  5]\n [ 6  7  8]\n [ 9 10 11]]\n\n\nAfter slicing ,our array become:\n[[ 4  5]\n [ 7  8]\n [10 11]]\n\n\n[ 5  6  7  8  9 10 11]\n"
     ]
    }
   ],
   "source": [
    "import numpy as np    #importing numpy and assigning it to mp\n",
    "x=np.array([[0,1,2],[3,4,5],[6,7,8],[9,10,11]])         #assigning array of 4 row and 3 column\n",
    "print(\"our array is:\")\n",
    "print(x)\n",
    "print(\"\\n\")\n",
    "z=x[1:4,1:3]            #slicing array   [i_start index:i_limit,j_start index,j_limit]\n",
    "\n",
    "#for above \n",
    "#   i,j\n",
    "\n",
    "#  (1,1)(1,2)\n",
    "#   (2,1)(2,2)\n",
    "#   (3,1)(3,2)\n",
    "\n",
    "print(\"After slicing ,our array become:\")\n",
    "print(z)\n",
    "print('\\n')\n",
    "\n",
    "\n",
    "print(\"Value greter then 4:\")\n",
    "print(x[x>4])   #will print all the values in the matrix which is greater the 4"
   ]
  },
  {
   "cell_type": "code",
   "execution_count": 4,
   "metadata": {},
   "outputs": [
    {
     "name": "stdout",
     "output_type": "stream",
     "text": [
      "[ 10  40  90 160]\n"
     ]
    }
   ],
   "source": [
    "import numpy as np\n",
    "a=np.array([1,2,3,4])\n",
    "b=np.array([10,20,30,40])\n",
    "c=np.array([1,3])\n",
    "print(a*b)   #multiply both the array index i of both array\n",
    "print(a*c)"
   ]
  },
  {
   "cell_type": "code",
   "execution_count": 15,
   "metadata": {},
   "outputs": [
    {
     "name": "stdout",
     "output_type": "stream",
     "text": [
      "mul\n[[672 198]\n [  5  12]]\n\n\nADD\n[[68 69]\n [ 6  8]]\n\n\n12\n3\n5\n6\n"
     ]
    }
   ],
   "source": [
    "import numpy as np\n",
    "a=np.array([[12,3],[5,6]])\n",
    "b=np.array([[56,66],[1,2]])\n",
    "\n",
    "\n",
    "print(\"mul\")\n",
    "print(a*b)\n",
    "print('\\n')\n",
    "print(\"ADD\")\n",
    "print(a+b)\n",
    "\n",
    "\n",
    "print(\"\\n\")\n",
    "\n",
    "\n",
    "for x in np.nditer(a):   ##will convert the array into linear sequence\n",
    "    print(x)"
   ]
  },
  {
   "cell_type": "code",
   "execution_count": 8,
   "metadata": {},
   "outputs": [],
   "source": [
    "import numpy as np\n",
    "a=np.array([[12,3],[5,6]])\n",
    "\n",
    "\n",
    "##########!!!this is relative address of file\n",
    "np.save(\"/home/manpreet/mps/mps.txt\",a)\n",
    "\n",
    "## saving array into file with the help of numpy \n",
    "##  1st input is the relative address where you want to save the file and 2nd input is the name of array\n",
    "#  which you\n",
    "## want to save\n",
    "\n"
   ]
  },
  {
   "cell_type": "code",
   "execution_count": 16,
   "metadata": {},
   "outputs": [
    {
     "name": "stdout",
     "output_type": "stream",
     "text": [
      "[1 2 3 4 5]\n"
     ]
    },
    {
     "data": {
      "image/png": "[encoded data removed]",
      "text/plain": [
       "<Figure size 432x288 with 1 Axes>"
      ]
     },
     "metadata": {},
     "output_type": "display_data"
    }
   ],
   "source": [
    "import numpy as np\n",
    "from matplotlib import pyplot as pit  #importing pypplot of matplotlib as pit\n",
    "a=np.array([1,2,3,4,5],dtype=int)\n",
    "\n",
    "##########!!!this is relative address of file with file extension\n",
    "np.savetxt(\"/home/manpreet/mps/mpt.csv\",a)### sacing array to .csv file\n",
    "\n",
    "print(a)\n",
    "\n",
    "x=np.loadtxt(\"/home/manpreet/mps/mpt.csv\")   ###loading form the saved .csv file\n",
    "pit.title(\"matplotlib demo\")   ##setting title of the graph\n",
    "pit.xlabel(\"Year\")      ##settting the x -axis label \n",
    "pit.ylabel(\"Data\")      ## Ssetting y - axis label\n",
    "\n",
    "y=2*x+5\n",
    "pit.plot(x,y)     ##command to plot data\n",
    "pit.show()"
   ]
  },
  {
   "cell_type": "code",
   "execution_count": 16,
   "metadata": {},
   "outputs": [],
   "source": []
  },
  {
   "cell_type": "code",
   "execution_count": null,
   "metadata": {},
   "outputs": [],
   "source": []
  }
 ],
 "metadata": {
  "kernelspec": {
   "display_name": "Python 2",
   "language": "python",
   "name": "python2"
  },
  "language_info": {
   "codemirror_mode": {
    "name": "ipython",
    "version": 2
   },
   "file_extension": ".py",
   "mimetype": "text/x-python",
   "name": "python",
   "nbconvert_exporter": "python",
   "pygments_lexer": "ipython2",
   "version": "2.7.6"
  }
 },
 "nbformat": 4,
 "nbformat_minor": 0
}
