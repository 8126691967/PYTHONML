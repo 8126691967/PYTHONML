{
 "cells": [
  {
   "cell_type": "code",
   "execution_count": null,
   "metadata": {},
   "outputs": [
    {
     "name": "stdout",
     "output_type": "stream",
     "text": [
      "[(10,) (20,) (30,) (40,)]\n[10 20 30 40]\n"
     ]
    }
   ],
   "source": [
    "import numpy as m\n",
    "dt=m.dtype([('age',m.int8)])   ## making custom data type age of integer type with 8 bit\n",
    "#  https://docs.scipy.org/doc/numpy-1.13.0/user/basics.types.html\n",
    "a=m.array([(10),(20),(30),(40)],dtype=dt)   #creating array of elements and \n",
    "# applying above data type to the elements of the array\n",
    "print(a)            #  printing array\n",
    "print(a['age'])     #printing only elements of tye array"
   ]
  },
  {
   "cell_type": "code",
   "execution_count": null,
   "metadata": {},
   "outputs": [
    {
     "name": "stdout",
     "output_type": "stream",
     "text": [
      "int32\n"
     ]
    }
   ],
   "source": [
    "import numpy as mp   #importing numpy and assigning it to mp\n",
    "dt=mp.dtype(mp.int32)    ## making custom data type age of integer type with 32 bit\n",
    "#  https://docs.scipy.org/doc/numpy-1.13.0/user/basics.types.html\n",
    "print(dt)"
   ]
  },
  {
   "cell_type": "code",
   "execution_count": 2,
   "metadata": {},
   "outputs": [
    {
     "name": "stdout",
     "output_type": "stream",
     "text": [
      "[('name', 'S20'), ('age', 'i1'), ('marks', '<f4')]\n[['abc' '19' '25.5']\n ['ppp' '56' '6.5']\n ['jjjj' '85' '56.6']]\n"
     ]
    }
   ],
   "source": [
    "import numpy as m       #importing numpy and assigning it to m\n",
    "student=m.dtype([('name','S20'),('age','i1'),('marks','f4')])  ## making custom data type student\n",
    "# for custom array type  \n",
    "#name here S means string 20 means bit size,      i means integer ,   f means float\n",
    "print(student)\n",
    "a=m.array([('abc',19,25.5),('ppp',56,6.5),('jjjj',85,56.6)])  #cgreating an array\n",
    "print(a)"
   ]
  },
  {
   "cell_type": "code",
   "execution_count": 5,
   "metadata": {},
   "outputs": [
    {
     "name": "stdout",
     "output_type": "stream",
     "text": [
      "[[1 2]\n [3 4]\n [5 6]]\n[1 4 5]\n"
     ]
    }
   ],
   "source": [
    "import numpy as mps         #importing numpy and assigning it to mp\n",
    "x=mps.array([[1,2],[3,4],[5,6]])     # creating an array of two element block of matrix\n",
    "y=x[[0,1,2],[0,1,0]]            # taking out elemet from array x fom the comination of index (i,i)\n",
    "\n",
    "print(x)    \n",
    "print(y)"
   ]
  },
  {
   "cell_type": "code",
   "execution_count": null,
   "metadata": {},
   "outputs": [],
   "source": []
  }
 ],
 "metadata": {
  "kernelspec": {
   "display_name": "Python 3",
   "language": "python",
   "name": "python3"
  },
  "language_info": {
   "codemirror_mode": {
    "name": "ipython",
    "version": 3
   },
   "file_extension": ".py",
   "mimetype": "text/x-python",
   "name": "python",
   "nbconvert_exporter": "python",
   "pygments_lexer": "ipython3",
   "version": "3.6.5"
  }
 },
 "nbformat": 4,
 "nbformat_minor": 1
}
