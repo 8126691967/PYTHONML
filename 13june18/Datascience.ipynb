{
 "cells": [
  {
   "cell_type": "code",
   "execution_count": null,
   "metadata": {},
   "outputs": [],
   "source": [
    "import numpy as m\n",
    "dt=m.dtype([('age',m.int8)])\n",
    "a=m.array([(10),(20),(30),(40)],dtype=dt)\n",
    "print(a)\n",
    "print(a['age'])"
   ]
  },
  {
   "cell_type": "code",
   "execution_count": null,
   "metadata": {
    "collapsed": false
   },
   "outputs": [],
   "source": [
    "import numpy as mp   #importing numpy and assigning it to\n",
    "dt=mp.dtype(mp.int32)\n",
    "print(dt)"
   ]
  },
  {
   "cell_type": "code",
   "execution_count": null,
   "metadata": {},
   "outputs": [],
   "source": [
    "import numpy as m\n",
    "student=m.dtype([('name','S20'),('age','i1'),('marks','f4')])\n",
    "print(student)\n",
    "a=m.array([('abc',19,25.5),('ppp',56,6.5),('jjjj',85,56.6)])\n",
    "print(a)"
   ]
  },
  {
   "cell_type": "code",
   "execution_count": null,
   "metadata": {},
   "outputs": [],
   "source": [
    "import numpy as mps\n",
    "x=mps.array([[1,2],[3,4],[5,6]])\n",
    "y=x[[0,1,2],[0,1,0]]\n",
    "\n",
    "print(x)\n",
    "print(y)"
   ]
  },
  {
   "cell_type": "markdown",
   "metadata": {},
   "source": []
  }
 ],
 "metadata": {
  "kernelspec": {
   "display_name": "Python 2",
   "language": "python",
   "name": "python2"
  },
  "language_info": {
   "codemirror_mode": {
    "name": "ipython",
    "version": 2
   },
   "file_extension": ".py",
   "mimetype": "text/x-python",
   "name": "python",
   "nbconvert_exporter": "python",
   "pygments_lexer": "ipython2",
   "version": "2.7.6"
  }
 },
 "nbformat": 4,
 "nbformat_minor": 0
}
