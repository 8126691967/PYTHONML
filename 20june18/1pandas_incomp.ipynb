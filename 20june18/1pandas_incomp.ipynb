{
 "cells": [
  {
   "cell_type": "code",
   "execution_count": 21,
   "metadata": {
    "collapsed": false
   },
   "outputs": [
    {
     "name": "stdout",
     "output_type": "stream",
     "text": [
      "0    A\n1    B\n2    C\n3    D\ndtype: object\n10    A\n20    B\n30    C\n40    D\ndtype: object\n"
     ]
    }
   ],
   "source": [
    "import numpy as np\n",
    "import  pandas as pd\n",
    "\n",
    "data=np.array(['A','B','C','D'])\n",
    "S=pd.Series(data)\n",
    "s2=pd.Series(data,index=[10,20,30,40])\n",
    "print(S)\n",
    "print(s2)"
   ]
  },
  {
   "cell_type": "code",
   "execution_count": 49,
   "metadata": {},
   "outputs": [],
   "source": [
    "####remaining part"
   ]
  },
  {
   "cell_type": "code",
   "execution_count": 23,
   "metadata": {},
   "outputs": [
    {
     "name": "stdout",
     "output_type": "stream",
     "text": [
      "1    25\n2    65\n3    65\n4    88\n5    99\ndtype: int64\n88\n"
     ]
    }
   ],
   "source": [
    "s=pd.Series([25,65,65,88,99],index=[1,2,3,4,5])\n",
    "print(s)\n",
    "print(s[4])"
   ]
  },
  {
   "cell_type": "code",
   "execution_count": 24,
   "metadata": {},
   "outputs": [
    {
     "name": "stdout",
     "output_type": "stream",
     "text": [
      "1    5\n2    5\n3    5\n4    5\ndtype: int64\n"
     ]
    }
   ],
   "source": [
    "s=pd.Series(5,index=[1,2,3,4])\n",
    "print(s)"
   ]
  },
  {
   "cell_type": "code",
   "execution_count": 25,
   "metadata": {},
   "outputs": [],
   "source": [
    "s=pd.Series([25,65,65,88,99],index=[1,2,3,4,5])\n",
    "print(s[:3])\n",
    "print(s[1:])\n",
    "print(s[-2:])"
   ]
  },
  {
   "cell_type": "code",
   "execution_count": 26,
   "metadata": {},
   "outputs": [
    {
     "name": "stdout",
     "output_type": "stream",
     "text": [
      "65\na    25\nd    88\ne    99\ndtype: int64\n"
     ]
    }
   ],
   "source": [
    "s=pd.Series([25,65,65,88,99],index=['a','b','c','d','e'])\n",
    "print(s['c'])\n",
    "print(s[['a','d','e']])"
   ]
  },
  {
   "cell_type": "code",
   "execution_count": 27,
   "metadata": {},
   "outputs": [
    {
     "name": "stdout",
     "output_type": "stream",
     "text": [
      "Empty DataFrame\nColumns: []\nIndex: []\n"
     ]
    }
   ],
   "source": [
    "s=pd.DataFrame()\n",
    "print(s)"
   ]
  },
  {
   "cell_type": "code",
   "execution_count": 28,
   "metadata": {},
   "outputs": [
    {
     "name": "stdout",
     "output_type": "stream",
     "text": [
      "    0\n0  25\n1  65\n2  65\n3  88\n4  99\n"
     ]
    }
   ],
   "source": [
    "s=[25,65,65,88,99]\n",
    "s=pd.DataFrame(s)\n",
    "print(s)"
   ]
  },
  {
   "cell_type": "code",
   "execution_count": 29,
   "metadata": {},
   "outputs": [
    {
     "name": "stdout",
     "output_type": "stream",
     "text": [
      "     0\n0    0\n1    3\n2    6\n3    9\n4   12\n5   15\n6   18\n7   21\n8   24\n9   27\n10  30\n11  33\n12  36\n13  39\n14  42\n15  45\n16  48\n17  51\n18  54\n"
     ]
    }
   ],
   "source": [
    "data=np.arange(0,55,3)\n",
    "s=pd.DataFrame(data)\n",
    "print(s)"
   ]
  },
  {
   "cell_type": "code",
   "execution_count": 30,
   "metadata": {},
   "outputs": [
    {
     "name": "stdout",
     "output_type": "stream",
     "text": [
      "   NAME  AGE\n0  Alex   10\n1   Bob   11\n2   mPS   12\n"
     ]
    }
   ],
   "source": [
    "data=[['Alex',10],['Bob',11],['mPS',12]]\n",
    "df=pd.DataFrame(data,columns=['NAME','AGE'])\n",
    "print(df)"
   ]
  },
  {
   "cell_type": "code",
   "execution_count": 31,
   "metadata": {},
   "outputs": [
    {
     "name": "stdout",
     "output_type": "stream",
     "text": [
      "   Name  Age\n0  Alex   22\n1   Bob   33\n2   mPS   44\n"
     ]
    }
   ],
   "source": [
    "data={'Name':['Alex','Bob','mPS'],'Age':[22,33,44]}\n",
    "df=pd.DataFrame(data)\n",
    "print(df)"
   ]
  },
  {
   "cell_type": "code",
   "execution_count": 32,
   "metadata": {},
   "outputs": [
    {
     "name": "stdout",
     "output_type": "stream",
     "text": [
      "       Age  Name\none     22  Alex\ntwo     33   Bob\nthree   44   mPS\n"
     ]
    }
   ],
   "source": [
    "data={'Name':['Alex','Bob','mPS'],'Age':[22,33,44]}\n",
    "df=pd.DataFrame(data,index=['one','two','three'],columns=['Age','Name'])\n",
    "print(df)"
   ]
  },
  {
   "cell_type": "code",
   "execution_count": 33,
   "metadata": {},
   "outputs": [
    {
     "name": "stdout",
     "output_type": "stream",
     "text": [
      "   a  b    c\n0  1  2  NaN\n1  5  3  5.0\n"
     ]
    }
   ],
   "source": [
    "data=[{'a':1,'b':2},{'a':5,'b':3,'c':5}]\n",
    "df=pd.DataFrame(data)\n",
    "print(df)"
   ]
  },
  {
   "cell_type": "code",
   "execution_count": 34,
   "metadata": {},
   "outputs": [
    {
     "name": "stdout",
     "output_type": "stream",
     "text": [
      "   one  two\na  1.0    1\nb  2.0    2\nc  3.0    3\nd  NaN    4\na    1.0\nb    2.0\nc    3.0\nd    NaN\nName: one, dtype: float64\n"
     ]
    }
   ],
   "source": [
    "import pandas as pd\n",
    "data={'one':pd.Series([1,2,3],index=['a','b','c']),'two':pd.Series([1,2,3,4],\n",
    "                                                                   index=['a','b','c','d'])}\n",
    "df=pd.DataFrame(data)\n",
    "print(df)\n",
    "print(df['one'])"
   ]
  },
  {
   "cell_type": "code",
   "execution_count": 35,
   "metadata": {
    "collapsed": true
   },
   "outputs": [
    {
     "name": "stdout",
     "output_type": "stream",
     "text": [
      "   one  two\na  1.0    1\nb  2.0    2\nc  3.0    3\nd  NaN    4\na    1.0\nb    2.0\nc    3.0\nd    NaN\nName: one, dtype: float64\n"
     ]
    }
   ],
   "source": [
    "import numpy as np\n",
    "import pandas as pd\n",
    "data={'one':pd.Series([1,2,3],index=['a','b','c']),'two':pd.Series([1,2,3,4],\n",
    "                                                                   index=['a','b','c','d'])}\n",
    "df=pd.DataFrame(data)\n",
    "print(df)\n",
    "print(df['one'])"
   ]
  },
  {
   "cell_type": "code",
   "execution_count": 36,
   "metadata": {
    "collapsed": true
   },
   "outputs": [
    {
     "name": "stdout",
     "output_type": "stream",
     "text": [
      "   one  two  three\na  1.0    1    2.0\nb  2.0    2    4.0\nc  3.0    3    6.0\nd  NaN    4    NaN\n"
     ]
    }
   ],
   "source": [
    "data={'one':pd.Series([1,2,3],index=['a','b','c']),'two':pd.Series([1,2,3,4],\n",
    "                                                                   index=['a','b','c','d'])}\n",
    "df=pd.DataFrame(data)\n",
    "df['three']=df['one']+df['two']\n",
    "print(df)\n"
   ]
  },
  {
   "cell_type": "code",
   "execution_count": 38,
   "metadata": {
    "collapsed": true
   },
   "outputs": [
    {
     "name": "stdout",
     "output_type": "stream",
     "text": [
      "   one\na    1\nb    2\nc    3\n\none    3\nName: c, dtype: int64\n"
     ]
    }
   ],
   "source": [
    "\n",
    "import pandas as pd\n",
    "s={'one':pd.Series([1,2,3],index=['a','b','c'])}\n",
    "df=pd.DataFrame(s)\n",
    "print(df)\n",
    "print()\n",
    "print(df.loc['c'])\n",
    "\n",
    "\n"
   ]
  },
  {
   "cell_type": "code",
   "execution_count": 48,
   "metadata": {},
   "outputs": [
    {
     "name": "stdout",
     "output_type": "stream",
     "text": [
      "   A  B\n0  1  2\n1  3  4\n\n   A  B\n0  5  6\n1  7  8\n\n   A  B\n0  1  2\n1  3  4\n0  5  6\n1  7  8\n\n   A  B\n1  3  4\n1  7  8\n\n   A\n0  1\n1  3\n0  5\n1  7\n"
     ]
    }
   ],
   "source": [
    "import pandas as pd\n",
    "df = pd.DataFrame([[1, 2], [3, 4]], columns=['A','B'])\n",
    "df1 = pd.DataFrame([[5, 6], [7, 8]], columns=['A','B'])\n",
    "print(df)\n",
    "print()\n",
    "print(df1)\n",
    "\n",
    "df=df.append(df1)\n",
    "print()\n",
    "print(df)\n",
    "\n",
    "print()\n",
    "\n",
    "df1=df.drop([0])\n",
    "print(df1)\n",
    "\n",
    "print()\n",
    "df2=df.drop(columns=['B'])\n",
    "print(df2)"
   ]
  },
  {
   "cell_type": "code",
   "execution_count": null,
   "metadata": {},
   "outputs": [],
   "source": []
  }
 ],
 "metadata": {
  "kernelspec": {
   "display_name": "Python 2",
   "language": "python",
   "name": "python2"
  },
  "language_info": {
   "codemirror_mode": {
    "name": "ipython",
    "version": 2
   },
   "file_extension": ".py",
   "mimetype": "text/x-python",
   "name": "python",
   "nbconvert_exporter": "python",
   "pygments_lexer": "ipython2",
   "version": "2.7.6"
  }
 },
 "nbformat": 4,
 "nbformat_minor": 0
}
