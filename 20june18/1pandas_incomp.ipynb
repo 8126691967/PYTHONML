{
 "cells": [
  {
   "cell_type": "code",
   "execution_count": 21,
   "metadata": {
    "collapsed": false
   },
   "outputs": [
    {
     "name": "stdout",
     "output_type": "stream",
     "text": [
      "0    A\n1    B\n2    C\n3    D\ndtype: object\n10    A\n20    B\n30    C\n40    D\ndtype: object\n"
     ]
    }
   ],
   "source": [
    "import numpy as np\n",
    "import  pandas as pd\n",
    "\n",
    "data=np.array(['A','B','C','D'])\n",
    "S=pd.Series(data)\n",
    "s2=pd.Series(data,index=[10,20,30,40])\n",
    "print(S)\n",
    "print(s2)"
   ]
  },
  {
   "cell_type": "code",
   "execution_count": 49,
   "metadata": {},
   "outputs": [],
   "source": [
    "####remaining part"
   ]
  },
  {
   "cell_type": "code",
   "execution_count": 23,
   "metadata": {},
   "outputs": [
    {
     "name": "stdout",
     "output_type": "stream",
     "text": [
      "1    25\n2    65\n3    65\n4    88\n5    99\ndtype: int64\n88\n"
     ]
    }
   ],
   "source": [
    "s=pd.Series([25,65,65,88,99],index=[1,2,3,4,5])\n",
    "print(s)\n",
    "print(s[4])"
   ]
  },
  {
   "cell_type": "code",
   "execution_count": 24,
   "metadata": {},
   "outputs": [
    {
     "name": "stdout",
     "output_type": "stream",
     "text": [
      "1    5\n2    5\n3    5\n4    5\ndtype: int64\n"
     ]
    }
   ],
   "source": [
    "s=pd.Series(5,index=[1,2,3,4])\n",
    "print(s)"
   ]
  },
  {
   "cell_type": "code",
   "execution_count": 25,
   "metadata": {},
   "outputs": [],
   "source": [
    "s=pd.Series([25,65,65,88,99],index=[1,2,3,4,5])\n",
    "print(s[:3])\n",
    "print(s[1:])\n",
    "print(s[-2:])"
   ]
  },
  {
   "cell_type": "code",
   "execution_count": 26,
   "metadata": {},
   "outputs": [
    {
     "name": "stdout",
     "output_type": "stream",
     "text": [
      "65\na    25\nd    88\ne    99\ndtype: int64\n"
     ]
    }
   ],
   "source": [
    "s=pd.Series([25,65,65,88,99],index=['a','b','c','d','e'])\n",
    "print(s['c'])\n",
    "print(s[['a','d','e']])"
   ]
  },
  {
   "cell_type": "code",
   "execution_count": 27,
   "metadata": {},
   "outputs": [
    {
     "name": "stdout",
     "output_type": "stream",
     "text": [
      "Empty DataFrame\nColumns: []\nIndex: []\n"
     ]
    }
   ],
   "source": [
    "s=pd.DataFrame()\n",
    "print(s)"
   ]
  },
  {
   "cell_type": "code",
   "execution_count": 28,
   "metadata": {},
   "outputs": [
    {
     "name": "stdout",
     "output_type": "stream",
     "text": [
      "    0\n0  25\n1  65\n2  65\n3  88\n4  99\n"
     ]
    }
   ],
   "source": [
    "s=[25,65,65,88,99]\n",
    "s=pd.DataFrame(s)\n",
    "print(s)"
   ]
  },
  {
   "cell_type": "code",
   "execution_count": 29,
   "metadata": {},
   "outputs": [
    {
     "name": "stdout",
     "output_type": "stream",
     "text": [
      "     0\n0    0\n1    3\n2    6\n3    9\n4   12\n5   15\n6   18\n7   21\n8   24\n9   27\n10  30\n11  33\n12  36\n13  39\n14  42\n15  45\n16  48\n17  51\n18  54\n"
     ]
    }
   ],
   "source": [
    "data=np.arange(0,55,3)\n",
    "s=pd.DataFrame(data)\n",
    "print(s)"
   ]
  },
  {
   "cell_type": "code",
   "execution_count": 30,
   "metadata": {},
   "outputs": [
    {
     "name": "stdout",
     "output_type": "stream",
     "text": [
      "   NAME  AGE\n0  Alex   10\n1   Bob   11\n2   mPS   12\n"
     ]
    }
   ],
   "source": [
    "data=[['Alex',10],['Bob',11],['mPS',12]]\n",
    "df=pd.DataFrame(data,columns=['NAME','AGE'])\n",
    "print(df)"
   ]
  },
  {
   "cell_type": "code",
   "execution_count": 31,
   "metadata": {},
   "outputs": [
    {
     "name": "stdout",
     "output_type": "stream",
     "text": [
      "   Name  Age\n0  Alex   22\n1   Bob   33\n2   mPS   44\n"
     ]
    }
   ],
   "source": [
    "data={'Name':['Alex','Bob','mPS'],'Age':[22,33,44]}\n",
    "df=pd.DataFrame(data)\n",
    "print(df)"
   ]
  },
  {
   "cell_type": "code",
   "execution_count": 32,
   "metadata": {},
   "outputs": [
    {
     "name": "stdout",
     "output_type": "stream",
     "text": [
      "       Age  Name\none     22  Alex\ntwo     33   Bob\nthree   44   mPS\n"
     ]
    }
   ],
   "source": [
    "data={'Name':['Alex','Bob','mPS'],'Age':[22,33,44]}\n",
    "df=pd.DataFrame(data,index=['one','two','three'],columns=['Age','Name'])\n",
    "print(df)"
   ]
  },
  {
   "cell_type": "code",
   "execution_count": 33,
   "metadata": {},
   "outputs": [
    {
     "name": "stdout",
     "output_type": "stream",
     "text": [
      "   a  b    c\n0  1  2  NaN\n1  5  3  5.0\n"
     ]
    }
   ],
   "source": [
    "data=[{'a':1,'b':2},{'a':5,'b':3,'c':5}]\n",
    "df=pd.DataFrame(data)\n",
    "print(df)"
   ]
  },
  {
   "cell_type": "code",
   "execution_count": 34,
   "metadata": {},
   "outputs": [
    {
     "name": "stdout",
     "output_type": "stream",
     "text": [
      "   one  two\na  1.0    1\nb  2.0    2\nc  3.0    3\nd  NaN    4\na    1.0\nb    2.0\nc    3.0\nd    NaN\nName: one, dtype: float64\n"
     ]
    }
   ],
   "source": [
    "import pandas as pd\n",
    "data={'one':pd.Series([1,2,3],index=['a','b','c']),'two':pd.Series([1,2,3,4],\n",
    "                                                                   index=['a','b','c','d'])}\n",
    "df=pd.DataFrame(data)\n",
    "print(df)\n",
    "print(df['one'])"
   ]
  },
  {
   "cell_type": "code",
   "execution_count": 35,
   "metadata": {
    "collapsed": true
   },
   "outputs": [
    {
     "name": "stdout",
     "output_type": "stream",
     "text": [
      "   one  two\na  1.0    1\nb  2.0    2\nc  3.0    3\nd  NaN    4\na    1.0\nb    2.0\nc    3.0\nd    NaN\nName: one, dtype: float64\n"
     ]
    }
   ],
   "source": [
    "import numpy as np\n",
    "import pandas as pd\n",
    "data={'one':pd.Series([1,2,3],index=['a','b','c']),'two':pd.Series([1,2,3,4],\n",
    "                                                                   index=['a','b','c','d'])}\n",
    "df=pd.DataFrame(data)\n",
    "print(df)\n",
    "print(df['one'])"
   ]
  },
  {
   "cell_type": "code",
   "execution_count": 36,
   "metadata": {
    "collapsed": true
   },
   "outputs": [
    {
     "name": "stdout",
     "output_type": "stream",
     "text": [
      "   one  two  three\na  1.0    1    2.0\nb  2.0    2    4.0\nc  3.0    3    6.0\nd  NaN    4    NaN\n"
     ]
    }
   ],
   "source": [
    "data={'one':pd.Series([1,2,3],index=['a','b','c']),'two':pd.Series([1,2,3,4],\n",
    "                                                                   index=['a','b','c','d'])}\n",
    "df=pd.DataFrame(data)\n",
    "df['three']=df['one']+df['two']\n",
    "print(df)\n"
   ]
  },
  {
   "cell_type": "code",
   "execution_count": 38,
   "metadata": {
    "collapsed": true
   },
   "outputs": [
    {
     "name": "stdout",
     "output_type": "stream",
     "text": [
      "   one\na    1\nb    2\nc    3\n\none    3\nName: c, dtype: int64\n"
     ]
    }
   ],
   "source": [
    "\n",
    "import pandas as pd\n",
    "s={'one':pd.Series([1,2,3],index=['a','b','c'])}\n",
    "df=pd.DataFrame(s)\n",
    "print(df)\n",
    "print()\n",
    "print(df.loc['c'])\n",
    "\n",
    "\n"
   ]
  },
  {
   "cell_type": "code",
   "execution_count": 48,
   "metadata": {},
   "outputs": [
    {
     "name": "stdout",
     "output_type": "stream",
     "text": [
      "   A  B\n0  1  2\n1  3  4\n\n   A  B\n0  5  6\n1  7  8\n\n   A  B\n0  1  2\n1  3  4\n0  5  6\n1  7  8\n\n   A  B\n1  3  4\n1  7  8\n\n   A\n0  1\n1  3\n0  5\n1  7\n"
     ]
    }
   ],
   "source": [
    "import pandas as pd\n",
    "df = pd.DataFrame([[1, 2], [3, 4]], columns=['A','B'])\n",
    "df1 = pd.DataFrame([[5, 6], [7, 8]], columns=['A','B'])\n",
    "print(df)\n",
    "print()\n",
    "print(df1)\n",
    "\n",
    "df=df.append(df1)\n",
    "print()\n",
    "print(df)\n",
    "\n",
    "print()\n",
    "\n",
    "df1=df.drop([0])\n",
    "print(df1)\n",
    "\n",
    "print()\n",
    "df2=df.drop(columns=['B'])\n",
    "print(df2)"
   ]
  },
  {
   "cell_type": "code",
   "execution_count": 38,
   "metadata": {},
   "outputs": [
    {
     "name": "stdout",
     "output_type": "stream",
     "text": [
      "\n\nPrinting content of csv:\n\n     sepal_length  sepal_width  petal_length  petal_width    species\n0             5.1          3.5           1.4          0.2     setosa\n1             4.9          3.0           1.4          0.2     setosa\n2             4.7          3.2           1.3          0.2     setosa\n3             4.6          3.1           1.5          0.2     setosa\n4             5.0          3.6           1.4          0.2     setosa\n5             5.4          3.9           1.7          0.4     setosa\n6             4.6          3.4           1.4          0.3     setosa\n7             5.0          3.4           1.5          0.2     setosa\n8             4.4          2.9           1.4          0.2     setosa\n9             4.9          3.1           1.5          0.1     setosa\n10            5.4          3.7           1.5          0.2     setosa\n11            4.8          3.4           1.6          0.2     setosa\n12            4.8          3.0           1.4          0.1     setosa\n13            4.3          3.0           1.1          0.1     setosa\n14            5.8          4.0           1.2          0.2     setosa\n15            5.7          4.4           1.5          0.4     setosa\n16            5.4          3.9           1.3          0.4     setosa\n17            5.1          3.5           1.4          0.3     setosa\n18            5.7          3.8           1.7          0.3     setosa\n19            5.1          3.8           1.5          0.3     setosa\n20            5.4          3.4           1.7          0.2     setosa\n21            5.1          3.7           1.5          0.4     setosa\n22            4.6          3.6           1.0          0.2     setosa\n23            5.1          3.3           1.7          0.5     setosa\n24            4.8          3.4           1.9          0.2     setosa\n25            5.0          3.0           1.6          0.2     setosa\n26            5.0          3.4           1.6          0.4     setosa\n27            5.2          3.5           1.5          0.2     setosa\n28            5.2          3.4           1.4          0.2     setosa\n29            4.7          3.2           1.6          0.2     setosa\n..            ...          ...           ...          ...        ...\n120           6.9          3.2           5.7          2.3  virginica\n121           5.6          2.8           4.9          2.0  virginica\n122           7.7          2.8           6.7          2.0  virginica\n123           6.3          2.7           4.9          1.8  virginica\n124           6.7          3.3           5.7          2.1  virginica\n125           7.2          3.2           6.0          1.8  virginica\n126           6.2          2.8           4.8          1.8  virginica\n127           6.1          3.0           4.9          1.8  virginica\n128           6.4          2.8           5.6          2.1  virginica\n129           7.2          3.0           5.8          1.6  virginica\n130           7.4          2.8           6.1          1.9  virginica\n131           7.9          3.8           6.4          2.0  virginica\n132           6.4          2.8           5.6          2.2  virginica\n133           6.3          2.8           5.1          1.5  virginica\n134           6.1          2.6           5.6          1.4  virginica\n135           7.7          3.0           6.1          2.3  virginica\n136           6.3          3.4           5.6          2.4  virginica\n137           6.4          3.1           5.5          1.8  virginica\n138           6.0          3.0           4.8          1.8  virginica\n139           6.9          3.1           5.4          2.1  virginica\n140           6.7          3.1           5.6          2.4  virginica\n141           6.9          3.1           5.1          2.3  virginica\n142           5.8          2.7           5.1          1.9  virginica\n143           6.8          3.2           5.9          2.3  virginica\n144           6.7          3.3           5.7          2.5  virginica\n145           6.7          3.0           5.2          2.3  virginica\n146           6.3          2.5           5.0          1.9  virginica\n147           6.5          3.0           5.2          2.0  virginica\n148           6.2          3.4           5.4          2.3  virginica\n149           5.9          3.0           5.1          1.8  virginica\n\n[150 rows x 5 columns]\n\n\nPrinting description:\n\n       sepal_length  sepal_width  petal_length  petal_width\ncount    150.000000   150.000000    150.000000   150.000000\nmean       5.843333     3.054000      3.758667     1.198667\nstd        0.828066     0.433594      1.764420     0.763161\nmin        4.300000     2.000000      1.000000     0.100000\n25%        5.100000     2.800000      1.600000     0.300000\n50%        5.800000     3.000000      4.350000     1.300000\n75%        6.400000     3.300000      5.100000     1.800000\nmax        7.900000     4.400000      6.900000     2.500000\n\n\nPrinting specific row:\n\n0      1.4\n1      1.4\n2      1.3\n3      1.5\n4      1.4\n5      1.7\n6      1.4\n7      1.5\n8      1.4\n9      1.5\n10     1.5\n11     1.6\n12     1.4\n13     1.1\n14     1.2\n15     1.5\n16     1.3\n17     1.4\n18     1.7\n19     1.5\n20     1.7\n21     1.5\n22     1.0\n23     1.7\n24     1.9\n25     1.6\n26     1.6\n27     1.5\n28     1.4\n29     1.6\n      ... \n120    5.7\n121    4.9\n122    6.7\n123    4.9\n124    5.7\n125    6.0\n126    4.8\n127    4.9\n128    5.6\n129    5.8\n130    6.1\n131    6.4\n132    5.6\n133    5.1\n134    5.6\n135    6.1\n136    5.6\n137    5.5\n138    4.8\n139    5.4\n140    5.6\n141    5.1\n142    5.1\n143    5.9\n144    5.7\n145    5.2\n146    5.0\n147    5.2\n148    5.4\n149    5.1\nName: petal_length, Length: 150, dtype: float64\n\n\nPrinting shape/// no of rows and column:\n\n(150, 5)\n"
     ]
    }
   ],
   "source": [
    "import csv\n",
    "import pandas as pd\n",
    "with open('/home/manpreet/mps/iris.csv') as csvfile:\n",
    "    reader = csv.DictReader(csvfile)\n",
    "    df=pd.read_csv(csvfile)\n",
    "    \n",
    "    print(\"\\n\\nPrinting content of csv:\\n\")\n",
    "    print(df)\n",
    "    \n",
    "    print(\"\\n\\nPrinting description:\\n\")\n",
    "    \n",
    "    print(df.describe())\n",
    "    \n",
    "    print(\"\\n\\nPrinting specific row:\\n\")\n",
    "    \n",
    "    \n",
    "    print(df['petal_length'])\n",
    "    \n",
    "    print(\"\\n\\nPrinting shape/// no of rows and column:\\n\")\n",
    "    \n",
    "    print(df.shape)\n",
    "    \n",
    "    \n",
    "    \n",
    "    \n",
    "    \n",
    "    #####this is line by line read code\n",
    "    '''for row in reader:\n",
    "        print(row['sepal_length']+'\\t'+row['sepal_width']+'\\t'+row['petal_length']+'\\t'+row['petal_width']+'\\t'\n",
    "              +row['species'])'''\n",
    "        \n",
    "        \n",
    "      "
   ]
  },
  {
   "cell_type": "code",
   "execution_count": null,
   "metadata": {},
   "outputs": [],
   "source": []
  }
 ],
 "metadata": {
  "kernelspec": {
   "display_name": "Python 2",
   "language": "python",
   "name": "python2"
  },
  "language_info": {
   "codemirror_mode": {
    "name": "ipython",
    "version": 2
   },
   "file_extension": ".py",
   "mimetype": "text/x-python",
   "name": "python",
   "nbconvert_exporter": "python",
   "pygments_lexer": "ipython2",
   "version": "2.7.6"
  }
 },
 "nbformat": 4,
 "nbformat_minor": 0
}
